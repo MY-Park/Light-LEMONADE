{
  "nbformat": 4,
  "nbformat_minor": 0,
  "metadata": {
    "colab": {
      "name": "Light_LEMONADE.ipynb",
      "provenance": [],
      "collapsed_sections": [],
      "machine_shape": "hm",
      "mount_file_id": "1pD1U_FJDvvTLF6DquJSIAXGABIhGo9CF",
      "authorship_tag": "ABX9TyO5lMkwIe51lZmPhjqtmB4I",
      "include_colab_link": true
    },
    "kernelspec": {
      "name": "python3",
      "display_name": "Python 3"
    },
    "accelerator": "GPU"
  },
  "cells": [
    {
      "cell_type": "markdown",
      "metadata": {
        "id": "view-in-github",
        "colab_type": "text"
      },
      "source": [
        "<a href=\"https://colab.research.google.com/github/MY-Park/Light-LEMONADE/blob/master/Light_LEMONADE.ipynb\" target=\"_parent\"><img src=\"https://colab.research.google.com/assets/colab-badge.svg\" alt=\"Open In Colab\"/></a>"
      ]
    },
    {
      "cell_type": "markdown",
      "metadata": {
        "id": "HG0Q5VArFv_q",
        "colab_type": "text"
      },
      "source": [
        "# **Light LEMONADE**\n",
        "\n",
        "**L**armarckian **E**volutionary algorithm for **M**ulti-**O**bjective **N**eural **A**rchitecture **DE**sign(**LEMONADE**) [1] 알고리즘을 작은 스케일로 재구현한 **Light LEMONADE** 실험 코드입니다.\n",
        "\n"
      ]
    },
    {
      "cell_type": "markdown",
      "metadata": {
        "id": "suVfuFyOHYJy",
        "colab_type": "text"
      },
      "source": [
        "딥러닝 라이브러리는 tensorflow keras를 사용하였으므로 환경을 세팅해줍니다."
      ]
    },
    {
      "cell_type": "code",
      "metadata": {
        "id": "z8P0VtAAxcnl",
        "colab_type": "code",
        "colab": {
          "base_uri": "https://localhost:8080/",
          "height": 35
        },
        "outputId": "5718bad4-b8a1-4086-dba0-9a03603a6e84"
      },
      "source": [
        "try:\n",
        "    %tensorflow_version 2.x\n",
        "except Exception:\n",
        "    pass\n",
        "import tensorflow as tf\n",
        "\n",
        "tf.__version__"
      ],
      "execution_count": 1,
      "outputs": [
        {
          "output_type": "execute_result",
          "data": {
            "application/vnd.google.colaboratory.intrinsic+json": {
              "type": "string"
            },
            "text/plain": [
              "'2.3.0'"
            ]
          },
          "metadata": {
            "tags": []
          },
          "execution_count": 1
        }
      ]
    },
    {
      "cell_type": "markdown",
      "metadata": {
        "id": "OCvfr4KJHhWJ",
        "colab_type": "text"
      },
      "source": [
        "학습에 사용할 데이터는 Fashion MNIST[2] 로서 다음과 같이 데이터를 다운 받아줍니다.\n",
        "\n"
      ]
    },
    {
      "cell_type": "code",
      "metadata": {
        "id": "EnYi1PHFxjO_",
        "colab_type": "code",
        "colab": {
          "base_uri": "https://localhost:8080/",
          "height": 102
        },
        "outputId": "6166d4fb-dd90-42ef-9fd9-c69b8d7bd8c3"
      },
      "source": [
        "import numpy as np\n",
        "import matplotlib.pyplot as plt\n",
        "\n",
        "#fasion mnist 데이터셋의 train, test set을 가져옵니다.\n",
        "(x_train, y_train), (x_test, y_test) = tf.keras.datasets.fashion_mnist.load_data()\n",
        "\n",
        "print(\"x_train shape:\", x_train.shape, \"y_train shape:\", y_train.shape)\n",
        "x_train = x_train.astype('float32') / 255\n",
        "x_test = x_test.astype('float32') / 255\n",
        "\n",
        "# (# train set : 55,000, test set : 5000)\n",
        "(x_train, x_valid) = x_train[5000:], x_train[:5000]\n",
        "(y_train, y_valid) = y_train[5000:], y_train[:5000]\n",
        "\n",
        "# 입력 이미지의 크기를 (28, 28) 에서 (28, 28, 1) 로 배열 차원을 변경(reshape)\n",
        "w, h = 28, 28\n",
        "x_train = x_train.reshape(x_train.shape[0], w, h, 1)\n",
        "x_valid = x_valid.reshape(x_valid.shape[0], w, h, 1)\n",
        "x_test = x_test.reshape(x_test.shape[0], w, h, 1)\n",
        "\n",
        "# 레이블에 원-핫 인코딩 적용\n",
        "# 원-핫 벡터는 단 하나의 차원에서만 1이고, 나머지 차원에서는 0인 벡터입니다.\n",
        "y_train = tf.keras.utils.to_categorical(y_train, 10)\n",
        "y_valid = tf.keras.utils.to_categorical(y_valid, 10)\n",
        "y_test = tf.keras.utils.to_categorical(y_test, 10)\n",
        "\n",
        "# 학습 셋 크기\n",
        "print(\"x_train shape:\", x_train.shape, \"y_train shape:\", y_train.shape)\n",
        "\n",
        "# 학습용, 검증용, 테스트용 데이터셋의 개수\n",
        "print(x_train.shape[0], 'train set')\n",
        "print(x_valid.shape[0], 'validation set')\n",
        "print(x_test.shape[0], 'test set')"
      ],
      "execution_count": 5,
      "outputs": [
        {
          "output_type": "stream",
          "text": [
            "x_train shape: (60000, 28, 28) y_train shape: (60000,)\n",
            "x_train shape: (55000, 28, 28, 1) y_train shape: (55000, 10)\n",
            "55000 train set\n",
            "5000 validation set\n",
            "10000 test set\n"
          ],
          "name": "stdout"
        }
      ]
    },
    {
      "cell_type": "markdown",
      "metadata": {
        "id": "lK2NvrUwI2kS",
        "colab_type": "text"
      },
      "source": [
        "Light LEMONADE에 사용될 Initial Population을 설정해줍니다."
      ]
    },
    {
      "cell_type": "code",
      "metadata": {
        "id": "L3IIZv9bTDZ5",
        "colab_type": "code",
        "colab": {
          "base_uri": "https://localhost:8080/",
          "height": 102
        },
        "outputId": "bfcf07c3-eeb6-43e0-e5ce-f543ce8db6ab"
      },
      "source": [
        "from tensorflow.keras.callbacks import ModelCheckpoint, EarlyStopping\n",
        "\n",
        "pareto_front = set()\n",
        "\n",
        "#num of filters 4, 8, 16, 32, 64\n",
        "for i in range(2,7):\n",
        "  filter = 2 ** i\n",
        "  inputs1 = tf.keras.layers.Input((28, 28, 1))\n",
        "  x = tf.keras.layers.Conv2D(filter, (3, 3), activation=None, padding='same')(inputs1)\n",
        "  x = tf.keras.layers.BatchNormalization()(x)\n",
        "  x = tf.keras.layers.Activation('relu')(x)\n",
        "\n",
        "  x = tf.keras.layers.Flatten()(x)\n",
        "  x = tf.keras.layers.Dense(10, activation=None)(x)\n",
        "  x = tf.keras.layers.Activation('softmax')(x)\n",
        "\n",
        "  model = tf.keras.models.Model(inputs=inputs1, outputs=x)\n",
        "  #model.summary()\n",
        "  model.compile(loss='categorical_crossentropy',\n",
        "              optimizer='adam',\n",
        "              metrics=['accuracy'])\n",
        "  model_path = '/content/drive/My Drive/SBSE/model/model_g0_p'+ str(i) + '.h5'\n",
        "  model.save(model_path)\n",
        "\n",
        "  idx=0\n",
        "  ckt_path = '/content/drive/My Drive/SBSE/weight/model.weights.best.g0_p'+str(i)+'.hdf5'\n",
        "  \n",
        "  ## epoch 수를 늘리고 early stopping을 사용하고 싶다면 아래 코드를 활성화 시키고 \n",
        "  ## model.fit의 파라미터로 callbacks = [es, mc]를 사용해줍니다.\n",
        "  #es = EarlyStopping(monitor='val_loss', mode='min', verbose=0, patience=5)\n",
        "\n",
        "  mc = ModelCheckpoint(filepath=ckt_path, verbose = 0, save_best_only=True)\n",
        "  train_history = model.fit(x_train,\n",
        "          y_train,\n",
        "          batch_size=64,\n",
        "          epochs=1,\n",
        "          validation_data=(x_valid, y_valid),\n",
        "          callbacks=[mc])\n",
        "\n",
        "  val_loss = min(train_history.history['val_loss'])\n",
        "  num_param = model.count_params()\n",
        "  id = 'g0_p'+str(i)\n",
        "  pareto_front.add((id, num_param, val_loss))\n",
        "\n",
        "pf_copy = pareto_front\n",
        "# save pareto front for each generation \n",
        "pf_path = '/content/drive/My Drive/SBSE/pareto_front/pf_g0.npy'\n",
        "list_pf = list(pf_copy)\n",
        "np.save(pf_path, list_pf)"
      ],
      "execution_count": 7,
      "outputs": [
        {
          "output_type": "stream",
          "text": [
            "860/860 [==============================] - 13s 15ms/step - loss: 0.4423 - accuracy: 0.8459 - val_loss: 0.3533 - val_accuracy: 0.8792\n",
            "860/860 [==============================] - 3s 4ms/step - loss: 0.4304 - accuracy: 0.8495 - val_loss: 0.3499 - val_accuracy: 0.8776\n",
            "860/860 [==============================] - 3s 4ms/step - loss: 0.4273 - accuracy: 0.8538 - val_loss: 0.3268 - val_accuracy: 0.8824\n",
            "860/860 [==============================] - 4s 4ms/step - loss: 0.4865 - accuracy: 0.8496 - val_loss: 0.3671 - val_accuracy: 0.8734\n",
            "860/860 [==============================] - 4s 5ms/step - loss: 0.5412 - accuracy: 0.8486 - val_loss: 0.4614 - val_accuracy: 0.8550\n"
          ],
          "name": "stdout"
        }
      ]
    },
    {
      "cell_type": "markdown",
      "metadata": {
        "id": "oClf-QEyJkzE",
        "colab_type": "text"
      },
      "source": [
        "### Network Operator\n",
        "\n",
        "parent network에 operator를 적용하여 child network를 생성하는데, 4가지 operator를 설정해줍니다. \n",
        "1. 임의의 ReLU layer 다음에 Convolution(Conv)-BatchNormalization(BatchNorm)-ReLU 블록을 삽입한다. \n",
        "2. 임의의 Conv layer 다음에 연속하여 Conv layer를 추가한다. \n",
        "3. 임의의 ReLU activation layer output 2개를 골라 skip connection을 추가한다.\n",
        "4. 임의로 선택한 레이어 한 개를 제거한다.\n",
        "\n"
      ]
    },
    {
      "cell_type": "code",
      "metadata": {
        "id": "LwBFNue6QmbE",
        "colab_type": "code",
        "colab": {}
      },
      "source": [
        "import random\n",
        "####################\n",
        "# network morphism #\n",
        "####################\n",
        "# 1. add conv-batchnorm-relu block after relu\n",
        "def add_block(o_model):\n",
        "\n",
        "  relu_list = []\n",
        "  relu_cnt = 0\n",
        "\n",
        "  filter = 0\n",
        "  for layer in o_model.layers:\n",
        "    if isinstance(layer, tf.keras.layers.Activation):\n",
        "      relu_list.append(layer)\n",
        "      relu_cnt += 1\n",
        "    elif isinstance(layer, tf.keras.layers.Conv2D):\n",
        "      filter = layer.output_shape[3]\n",
        "\n",
        "  if (relu_cnt-2 < 0):\n",
        "    new_model = o_model\n",
        "    return new_model\n",
        "\n",
        "  rnd = random.randint(0,relu_cnt-2)\n",
        "  targeted_relu = relu_list[rnd]\n",
        "\n",
        "  len_layers = len(o_model.layers)\n",
        "  x = o_model.layers[0].output\n",
        "\n",
        "  for i in range(1,len_layers):\n",
        "\n",
        "    x = o_model.layers[i](x)\n",
        "\n",
        "    if o_model.layers[i] == targeted_relu:\n",
        "      x = tf.keras.layers.Conv2D(filters=filter, kernel_size=3, padding='same')(x)\n",
        "      x = tf.keras.layers.BatchNormalization()(x)\n",
        "      x = tf.keras.layers.Activation('relu')(x)\n",
        "\n",
        "  new_model = tf.keras.models.Model(o_model.layers[0].input, x)\n",
        "  return new_model\n",
        "\n",
        "# 2. add conv after conv\n",
        "\n",
        "def add_conv(o_model):\n",
        "  conv_list = []\n",
        "  conv_cnt = 0\n",
        "  filter = 0\n",
        "  for layer in o_model.layers:\n",
        "    if isinstance(layer, tf.keras.layers.Conv2D):\n",
        "      conv_list.append(layer)\n",
        "      conv_cnt += 1\n",
        "      filter = layer.output_shape[3]\n",
        "\n",
        "  rnd = random.randint(0,conv_cnt-1)\n",
        "  targeted_conv = conv_list[rnd]\n",
        "\n",
        "  len_layers = len(o_model.layers)\n",
        "  x = o_model.layers[0].output\n",
        "\n",
        "  for i in range(1,len_layers):\n",
        "\n",
        "    x = o_model.layers[i](x)\n",
        "    \n",
        "    if o_model.layers[i] == targeted_conv:\n",
        "      # conv with random number of filters\n",
        "      x = tf.keras.layers.Conv2D(filters=filter, kernel_size=3, padding='same')(x)\n",
        "\n",
        "  new_model = tf.keras.models.Model(o_model.layers[0].input, x)\n",
        "  return new_model\n",
        "\n",
        "# 3. add skip connection\n",
        "def add_skip_connection(o_model):\n",
        "  relu_list = []\n",
        "  relu_cnt = 0\n",
        "  for layer in o_model.layers:\n",
        "    if isinstance(layer, tf.keras.layers.Activation):\n",
        "      relu_list.append(layer)\n",
        "      relu_cnt += 1\n",
        "\n",
        "  if relu_cnt-1 < 2:\n",
        "    new_model = o_model\n",
        "    return new_model\n",
        "  \n",
        "  rnd_list = random.sample(range(relu_cnt-1), 2)\n",
        "  rnd_list.sort()\n",
        "\n",
        "  input_relu = relu_list[rnd_list[0]]\n",
        "  output_relu = relu_list[rnd_list[1]]\n",
        "\n",
        "  len_layers = len(o_model.layers)\n",
        "  x = o_model.layers[0].output\n",
        "  shortcut = o_model.layers[0].output\n",
        "\n",
        "  for i in range(1,len_layers):\n",
        "    x = o_model.layers[i](x)\n",
        "\n",
        "    if o_model.layers[i] == input_relu:\n",
        "      shortcut = tf.keras.layers.Activation('relu')(x)\n",
        "\n",
        "    elif o_model.layers[i] == output_relu:\n",
        "      x = tf.keras.layers.add([x,shortcut])\n",
        "\n",
        "    \n",
        "  new_model = tf.keras.models.Model(o_model.layers[0].input, x)\n",
        "  return new_model\n",
        "\n",
        "################################\n",
        "# approximate network morphism #\n",
        "################################\n",
        "# 4. remove randomly chosen layer or skip connection\n",
        "\n",
        "def remove_random_layer(o_model):\n",
        "  len_layers = len(o_model.layers)\n",
        "  if (len_layers-4 < 2):\n",
        "    new_model = o_model\n",
        "    return new_model\n",
        "  rnd = random.randint(2,len_layers-4)\n",
        "  new_model = o_model\n",
        "  pop_layer = new_model.layers.pop(rnd)\n",
        "\n",
        "  x = o_model.layers[0].output\n",
        "  for i in range(1, len_layers):\n",
        "    if pop_layer == o_model.layers[i]:\n",
        "      continue\n",
        "    x = o_model.layers[i](x)\n",
        "  new_model = tf.keras.models.Model(o_model.layers[0].input, x)\n",
        "  return new_model"
      ],
      "execution_count": 8,
      "outputs": []
    },
    {
      "cell_type": "markdown",
      "metadata": {
        "id": "YXvfZZnvLdLM",
        "colab_type": "text"
      },
      "source": [
        " 설정한 generation 동안 pareto front를 추정합니다.\n",
        "\n",
        "* from_gen : 몇 generation 부터 학습을 시작할 건지 정해줍니다.\n",
        "* to_gen : 몇 generation까지 학습을 할 것인지 정해줍니다.\n",
        "* num_sample : child sampling할 때 몇개를 sampling할지 정해줍니다. sampling 된 child에 대해서만 expensive object인 validation loss를 계산합니다. \n",
        "\n"
      ]
    },
    {
      "cell_type": "code",
      "metadata": {
        "id": "ZPNgQf4_69lL",
        "colab_type": "code",
        "colab": {
          "base_uri": "https://localhost:8080/",
          "height": 357
        },
        "outputId": "db3b6cd7-0500-48e4-ffa0-e5e816bfd82f"
      },
      "source": [
        "from scipy import stats\n",
        "import numpy as np\n",
        "\n",
        "func_list = [add_block, add_conv, add_skip_connection, remove_random_layer]\n",
        "from_gen = 1\n",
        "to_gen = 10\n",
        "num_sample = 20\n",
        "\n",
        "# for plot pareto front\n",
        "x_list = []\n",
        "y_list = []\n",
        "\n",
        "pf_copy = np.load('/content/drive/My Drive/SBSE/pareto_front/pf_g'+str(from_gen-1)+'.npy')\n",
        "pf_copy = pf_copy.tolist()\n",
        "\n",
        "pareto_front = set()\n",
        "for pf in pf_copy:\n",
        "  id, num, val = pf\n",
        "  pareto_front.add((id, int(num), float(val)))\n",
        "\n",
        "for gen in range(from_gen, to_gen+1):\n",
        "  print('Generation ' + str(gen) + '\\n')\n",
        "  # pool for children\n",
        "  pool = []\n",
        "\n",
        "  num_param_list = []\n",
        "\n",
        "  # o_model : 현재 pareto front인 부모 network\n",
        "  for opt in pareto_front:\n",
        "    id, _, _ = opt\n",
        "    o_model = tf.keras.models.load_model('/content/drive/My Drive/SBSE/model/model_'+id+'.h5')\n",
        "\n",
        "    # generate child network\n",
        "    for func in func_list:\n",
        "      new_model = func(o_model)\n",
        "      pool.append(new_model)\n",
        "      num_param_list.append(new_model.count_params())\n",
        "\n",
        "  ## 3. 가우시안 커널 밀도 추정\n",
        "  estimator = stats.gaussian_kde(num_param_list, bw_method='silverman')\n",
        "\n",
        "  # cheap object에 대한 child 네트워크의 분포와 그에 따른 커널 밀도 추정 결과를 그래프로 출력할 수 있습니다.\n",
        "\n",
        "  # X = np.arange(0, 600000, 10)\n",
        "  # K = estimator(X)\n",
        "  # plt.style.use(['seaborn-ticks'])\n",
        "  # plt.plot(X,K, label='Population density')\n",
        "  # plt.hist(num_param_list, density=True, bins=30, label='Children Probability')\n",
        "  # plt.xlabel('Number of Parameters')\n",
        "  # plt.legend()\n",
        "  # plt.savefig('/content/drive/My Drive/SBSE/density.svg',format='svg',dpi=1200)\n",
        "\n",
        "  prob_param_list = []\n",
        "  sum = 0\n",
        "\n",
        "  # 추정된 밀도의 역수의 확률로 child network를 샘플링합니다. 추정된 밀도가 0일 경우를 대비하여 아주 작은 epsilon(1e^-7)을 더해주었습니다.\n",
        "  for num_param in num_param_list:\n",
        "    prob = 1/(estimator(num_param)[0]+0.0000001)\n",
        "    prob_param_list.append(prob)\n",
        "    sum += prob\n",
        "\n",
        "  for i in range(len(prob_param_list)):\n",
        "    prob_param_list[i] /= sum\n",
        "\n",
        "  sample_num = min(len(pool), num_sample)\n",
        "  c_sample = np.random.choice(len(pool), sample_num, replace=False, p=prob_param_list)\n",
        "\n",
        "  loss_list = []\n",
        "  selected_pool = []\n",
        "\n",
        "  # selected children에 대해 expensive objective인 validation loss를 계산합니다.\n",
        "  for c_idx in c_sample:\n",
        "    c_model = pool[c_idx]\n",
        "    c_model.compile(loss='categorical_crossentropy',\n",
        "              optimizer='adam',\n",
        "              metrics=['accuracy'])\n",
        "    id = 'g'+str(gen)+'_p'+str(c_idx)\n",
        "    \n",
        "    ## epoch을 늘리고 early stopping을 하고 싶을 경우 아래 코드를 활성화합니다. 그리고 fit 파라미터로 callbacks = [mc, es]를 사용하면 됩니다.\n",
        "    #es = EarlyStopping(monitor='val_loss', mode='min', verbose=0, patience=10)\n",
        "\n",
        "    mc = ModelCheckpoint(filepath='/content/drive/My Drive/SBSE/weight/model.weights.best.'+id+'.hdf5', verbose = 0, save_best_only=True)\n",
        "    train_history = c_model.fit(x_train,\n",
        "          y_train,\n",
        "          batch_size=64,\n",
        "          epochs=5,\n",
        "          verbose=0,\n",
        "          validation_data=(x_valid, y_valid),\n",
        "          callbacks=[mc])\n",
        "    val_loss = min(train_history.history['val_loss'])\n",
        "\n",
        "    pareto_front.add((id, c_model.count_params(), val_loss))\n",
        "    c_model.save('/content/drive/My Drive/SBSE/model/model_'+id+'.h5')\n",
        "\n",
        "  delete_list=[]\n",
        "\n",
        "  # select pareto front\n",
        "  for pf1 in pareto_front:\n",
        "    # count for dominate i\n",
        "    # 현재 네트워크보다 dominate한 네트워크의 개수를 세서, 그 개수가 0인 네트워크만 pareto front로 남겨둡니다.\n",
        "    cnt = 0\n",
        "    _, num_param1, val_loss1 = pf1\n",
        "    num_param1\n",
        "    for pf2 in pareto_front:\n",
        "      if pf1 == pf2 :\n",
        "        continue\n",
        "        print(pf1,pf2)\n",
        "      _, num_param2, val_loss2 = pf2\n",
        "      if ((num_param1 > num_param2) & (val_loss1 > val_loss2)):\n",
        "        cnt += 1\n",
        "      elif ((num_param1 >= num_param2) & (val_loss1 > val_loss2)):\n",
        "        cnt += 1\n",
        "      elif ((num_param1 > num_param2) & (val_loss1 >= val_loss2)):\n",
        "        cnt += 1\n",
        "\n",
        "      # 더 이상 pareto front가 아닌 네트워크는 population에서 제거해줍니다.     \n",
        "      if cnt > 0:\n",
        "        delete_list.append(pf1)\n",
        "        break\n",
        "  \n",
        "  for pf in delete_list:\n",
        "    pareto_front.remove(pf)\n",
        "\n",
        "  x_list.append([loss for _,_,loss in pareto_front])\n",
        "  y_list.append([num_param for _, num_param, _ in pareto_front])\n",
        "\n",
        "  pf_copy = pareto_front\n",
        "  # save pareto front for each generation \n",
        "  pf_path = '/content/drive/My Drive/SBSE/pareto_front/pf_g' + str(gen) +'.npy'\n",
        "  list_pf = list(pf_copy)\n",
        "  np.save(pf_path, list_pf)\n"
      ],
      "execution_count": 17,
      "outputs": [
        {
          "output_type": "stream",
          "text": [
            "Generation 1\n",
            "\n",
            "Generation 2\n",
            "\n",
            "Generation 3\n",
            "\n",
            "Generation 4\n",
            "\n",
            "Generation 5\n",
            "\n",
            "Generation 6\n",
            "\n",
            "Generation 7\n",
            "\n",
            "Generation 8\n",
            "\n",
            "Generation 9\n",
            "\n",
            "Generation 10\n",
            "\n"
          ],
          "name": "stdout"
        }
      ]
    },
    {
      "cell_type": "markdown",
      "metadata": {
        "id": "I_oP4LWmQ_Ut",
        "colab_type": "text"
      },
      "source": [
        "## 결과\n",
        "추정된 pareto front에 대한 정보를 출력해봅니다.\n",
        "\n",
        "(pareto front 의 id, parameter 개수, validation loss)를 출력하고,\n",
        "\n",
        "각 모델에 대한 test loss, test accuracy를 출력해봅니다. "
      ]
    },
    {
      "cell_type": "code",
      "metadata": {
        "id": "jAfr_YurW4KK",
        "colab_type": "code",
        "colab": {
          "base_uri": "https://localhost:8080/",
          "height": 221
        },
        "outputId": "e1b08bf1-38bf-44db-cc37-7704dab51537"
      },
      "source": [
        "gen = 10\n",
        "pf_path = '/content/drive/My Drive/SBSE/pareto_front/pf_g' + str(gen) +'.npy'\n",
        "\n",
        "pareto_front = np.load(pf_path)\n",
        "print(pareto_front)\n",
        "\n",
        "for id,_,_ in pareto_front:\n",
        "  path = '/content/drive/My Drive/SBSE/model/model_'+id+'.h5'\n",
        "  model = tf.keras.models.load_model(path)\n",
        "  score = model.evaluate(x_test, y_test, verbose=0)\n",
        "  print('Test loss:', score[0])\n",
        "  print('Test accuracy:', score[1])"
      ],
      "execution_count": 18,
      "outputs": [
        {
          "output_type": "stream",
          "text": [
            "[['g4_p0' '64074' '0.279020220041275']\n",
            " ['g2_p6' '502410' '0.2760218381881714']\n",
            " ['g4_p6' '31410' '0.2986568808555603']\n",
            " ['g6_p15' '31558' '0.28372105956077576']]\n",
            "Test loss: 0.3126538097858429\n",
            "Test accuracy: 0.8973000049591064\n",
            "Test loss: 0.3107469379901886\n",
            "Test accuracy: 0.9017999768257141\n",
            "Test loss: 0.32411134243011475\n",
            "Test accuracy: 0.8866000175476074\n",
            "Test loss: 0.3005087077617645\n",
            "Test accuracy: 0.8948000073432922\n"
          ],
          "name": "stdout"
        }
      ]
    },
    {
      "cell_type": "markdown",
      "metadata": {
        "id": "su_PFkSdRtDJ",
        "colab_type": "text"
      },
      "source": [
        "pareto front를 구성하고 있는 뉴럴 네트워크의 구조를 살펴봅니다. "
      ]
    },
    {
      "cell_type": "code",
      "metadata": {
        "id": "pfI4hRp_vc_d",
        "colab_type": "code",
        "colab": {
          "base_uri": "https://localhost:8080/",
          "height": 1000
        },
        "outputId": "eae9f167-b32d-4e3b-b0bd-016751785cbb"
      },
      "source": [
        "for id,_,_ in pareto_front:\n",
        "    model = tf.keras.models.load_model('/content/drive/My Drive/SBSE/model/model_'+id+'.h5')\n",
        "    model.summary()"
      ],
      "execution_count": 19,
      "outputs": [
        {
          "output_type": "stream",
          "text": [
            "Model: \"functional_181\"\n",
            "_________________________________________________________________\n",
            "Layer (type)                 Output Shape              Param #   \n",
            "=================================================================\n",
            "input_3 (InputLayer)         [(None, 28, 28, 1)]       0         \n",
            "_________________________________________________________________\n",
            "conv2d_2 (Conv2D)            (None, 28, 28, 8)         80        \n",
            "_________________________________________________________________\n",
            "batch_normalization_2 (Batch (None, 28, 28, 8)         32        \n",
            "_________________________________________________________________\n",
            "activation_4 (Activation)    (None, 28, 28, 8)         0         \n",
            "_________________________________________________________________\n",
            "conv2d_60 (Conv2D)           (None, 28, 28, 8)         584       \n",
            "_________________________________________________________________\n",
            "batch_normalization_33 (Batc (None, 28, 28, 8)         32        \n",
            "_________________________________________________________________\n",
            "activation_42 (Activation)   (None, 28, 28, 8)         0         \n",
            "_________________________________________________________________\n",
            "conv2d_42 (Conv2D)           (None, 28, 28, 8)         584       \n",
            "_________________________________________________________________\n",
            "batch_normalization_24 (Batc (None, 28, 28, 8)         32        \n",
            "_________________________________________________________________\n",
            "activation_30 (Activation)   (None, 28, 28, 8)         0         \n",
            "_________________________________________________________________\n",
            "flatten_2 (Flatten)          (None, 6272)              0         \n",
            "_________________________________________________________________\n",
            "dense_2 (Dense)              (None, 10)                62730     \n",
            "_________________________________________________________________\n",
            "activation_5 (Activation)    (None, 10)                0         \n",
            "=================================================================\n",
            "Total params: 64,074\n",
            "Trainable params: 64,026\n",
            "Non-trainable params: 48\n",
            "_________________________________________________________________\n",
            "Model: \"functional_119\"\n",
            "_________________________________________________________________\n",
            "Layer (type)                 Output Shape              Param #   \n",
            "=================================================================\n",
            "input_6 (InputLayer)         [(None, 28, 28, 1)]       0         \n",
            "_________________________________________________________________\n",
            "conv2d_5 (Conv2D)            (None, 28, 28, 64)        640       \n",
            "_________________________________________________________________\n",
            "activation_10 (Activation)   (None, 28, 28, 64)        0         \n",
            "_________________________________________________________________\n",
            "flatten_5 (Flatten)          (None, 50176)             0         \n",
            "_________________________________________________________________\n",
            "dense_5 (Dense)              (None, 10)                501770    \n",
            "_________________________________________________________________\n",
            "activation_11 (Activation)   (None, 10)                0         \n",
            "=================================================================\n",
            "Total params: 502,410\n",
            "Trainable params: 502,410\n",
            "Non-trainable params: 0\n",
            "_________________________________________________________________\n",
            "Model: \"functional_107\"\n",
            "_________________________________________________________________\n",
            "Layer (type)                 Output Shape              Param #   \n",
            "=================================================================\n",
            "input_2 (InputLayer)         [(None, 28, 28, 1)]       0         \n",
            "_________________________________________________________________\n",
            "conv2d_1 (Conv2D)            (None, 28, 28, 4)         40        \n",
            "_________________________________________________________________\n",
            "activation_2 (Activation)    (None, 28, 28, 4)         0         \n",
            "_________________________________________________________________\n",
            "flatten_1 (Flatten)          (None, 3136)              0         \n",
            "_________________________________________________________________\n",
            "dense_1 (Dense)              (None, 10)                31370     \n",
            "_________________________________________________________________\n",
            "activation_3 (Activation)    (None, 10)                0         \n",
            "=================================================================\n",
            "Total params: 31,410\n",
            "Trainable params: 31,410\n",
            "Non-trainable params: 0\n",
            "_________________________________________________________________\n",
            "Model: \"functional_273\"\n",
            "_________________________________________________________________\n",
            "Layer (type)                 Output Shape              Param #   \n",
            "=================================================================\n",
            "input_2 (InputLayer)         [(None, 28, 28, 1)]       0         \n",
            "_________________________________________________________________\n",
            "conv2d_1 (Conv2D)            (None, 28, 28, 4)         40        \n",
            "_________________________________________________________________\n",
            "activation_2 (Activation)    (None, 28, 28, 4)         0         \n",
            "_________________________________________________________________\n",
            "conv2d_46 (Conv2D)           (None, 28, 28, 4)         148       \n",
            "_________________________________________________________________\n",
            "activation_32 (Activation)   (None, 28, 28, 4)         0         \n",
            "_________________________________________________________________\n",
            "flatten_1 (Flatten)          (None, 3136)              0         \n",
            "_________________________________________________________________\n",
            "dense_1 (Dense)              (None, 10)                31370     \n",
            "_________________________________________________________________\n",
            "activation_3 (Activation)    (None, 10)                0         \n",
            "=================================================================\n",
            "Total params: 31,558\n",
            "Trainable params: 31,558\n",
            "Non-trainable params: 0\n",
            "_________________________________________________________________\n"
          ],
          "name": "stdout"
        }
      ]
    },
    {
      "cell_type": "markdown",
      "metadata": {
        "id": "67LDU8N8NEUc",
        "colab_type": "text"
      },
      "source": [
        "매 generation마다 Pareto Front의 추정 과정을 그래프로 출력해줍니다.\n",
        "\n",
        "출력하고 싶은 generation을 pareto_list에 추가합니다."
      ]
    },
    {
      "cell_type": "code",
      "metadata": {
        "id": "62Yx7MnWkItN",
        "colab_type": "code",
        "colab": {
          "base_uri": "https://localhost:8080/",
          "height": 293
        },
        "outputId": "7095b389-048b-47e7-ec1e-127376b665b9"
      },
      "source": [
        "import matplotlib.pyplot as plt\n",
        "import matplotlib as mlp\n",
        "import numpy as np\n",
        "import matplotlib.transforms as mtrans\n",
        "\n",
        "x_list = []\n",
        "y_list = []\n",
        "\n",
        "# 출력하고 싶은 generation을 추가합니다. \n",
        "# 예를 들어 generation 1,2,3,5,10을 출력하고 싶다면 pareto_list = [1,2,3,5,10]으로 설정합니다.\n",
        "pareto_list=[1,2,3,5,10]\n",
        "for i in pareto_list:\n",
        "  pf_copy = np.load('/content/drive/My Drive/SBSE/pareto_front/pf_g'+str(i)+'.npy')\n",
        "  pf_copy = pf_copy.tolist()\n",
        "\n",
        "  pareto_front = set()\n",
        "\n",
        "  x = []\n",
        "  y = []\n",
        "\n",
        "  for pf in pf_copy:\n",
        "    _, num, val = pf\n",
        "    x.append(float(val))\n",
        "    y.append(int(num))\n",
        "\n",
        "  x_list.append(x)\n",
        "  y_list.append(y)\n",
        "\n",
        "color = ['red', 'orange', 'chartreuse', 'green', 'cyan', 'purple', 'magenta', 'brown']\n",
        "mlp.style.use('seaborn-whitegrid')\n",
        "fig, ax = plt.subplots(figsize=(10,4))\n",
        "\n",
        "for gen, (x, y) in enumerate(zip(x_list, y_list)):\n",
        "  x.sort()\n",
        "  y.sort(reverse=True)\n",
        "  label = str(pareto_list[gen])\n",
        "  lw=10-gen*1\n",
        "  ls=['-','--','-.',':'][gen%4]\n",
        "  ax.plot(x,y, marker='o',label=label, drawstyle='steps-post', color=color[gen%8], linewidth = lw, alpha=1-gen*0.1)\n",
        "  #ax.plot(x, y, marker='o', linestyle='', label=label)\n",
        "\n",
        "\n",
        "ax.legend(loc='best')\n",
        "\n",
        "plt.legend(title='Generation',prop={'size': 12}, ncol=2)\n",
        "plt.title('Progress of Pareto front')\n",
        "plt.xlabel('Validation error',fontsize=10)\n",
        "plt.ylabel('Number of Parameters',fontsize=10)\n",
        "plt.xticks(fontsize=12)\n",
        "plt.yticks(fontsize=12)\n",
        "plt.show()\n",
        "fig.savefig('/content/drive/My Drive/SBSE/pareto_front(1).svg', format='svg')"
      ],
      "execution_count": 25,
      "outputs": [
        {
          "output_type": "display_data",
          "data": {
            "image/png": "[encoded data removed]",
            "text/plain": [
              "<Figure size 720x288 with 1 Axes>"
            ]
          },
          "metadata": {
            "tags": []
          }
        }
      ]
    },
    {
      "cell_type": "markdown",
      "metadata": {
        "id": "8lP1wINfGYb2",
        "colab_type": "text"
      },
      "source": [
        "#Reference\n",
        "[1] Efficient Multi-objective Neural Architecture Search via Lamarckian Evolution, Thomas Elsken et al. (ICLR 2019)\n",
        "\n",
        "[2] Fashion-MNIST dataset (https://github.com/zalandoresearch/fashion-mnist)"
      ]
    }
  ]
}